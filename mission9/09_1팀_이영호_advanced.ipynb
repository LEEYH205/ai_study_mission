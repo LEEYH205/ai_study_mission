{
 "cells": [
  {
   "cell_type": "markdown",
   "id": "49a0b135",
   "metadata": {},
   "source": [
    "# 미션 9 심화"
   ]
  },
  {
   "cell_type": "markdown",
   "id": "3d10e368",
   "metadata": {},
   "source": [
    "목표\n",
    "- 조건부 GAN(cGAN)을 활용하여 다양한 모자 이미지를 생성하는 모델을 구축\n",
    "\n",
    "데이터셋\n",
    "- 해당 데이터셋은 20개 클래스(각기 다른 스타일의 모자, 캡, 헬멧 등)로 구성되어 있다.\n",
    "- 이미지의 해상도와 다양성이 FashionMNIST보다 높으므로, 모델 구조나 학습 전략을 조금 더 세밀하게 조정해야 할 수 있다.\n",
    "\n",
    "실습 내용\n",
    "1. 데이터 로드 및 전처리\n",
    "    - ImageFolder 등으로 데이터를 불러오고, 적절한 크기로 리사이즈합니다.\n",
    "    - 데이터 증강 기법(예: Random Crop, Horizontal Flip, Color Jitter 등)을 적용해 데이터 다양성을 확보합니다.\n",
    "2. 모델 설계 및 학습\n",
    "    - 기존의 FashionMNIST cGAN 모델을 베이스로 하되, 이미지 해상도와 데이터 복잡성을 고려하여 Generator와 Discriminator의 네트워크 구조를 조정해 보세요.\n",
    "    - 조건부 레이블을 사용하여 각 모자 클래스에 따른 이미지를 생성하도록 학습시키세요.\n",
    "3. 평가 및 결과 시각화\n",
    "    - 학습 도중 및 학습 후에 각 클래스별로 생성된 이미지를 시각화하여, 모델의 성능을 평가해 보세요.\n",
    "    - 다양한 평가 지표를 활용해 모델의 개선 방향을 모색해 보세요.\n",
    "4. 마크다운 설명\n",
    "    - 각 단계의 의도와 알고리즘, 구현 방법 등을 상세히 기록해 주세요.\n",
    "    - 실험 결과 및 개선 방안에 대한 해설이나 인사이트를 포함해도 좋습니다."
   ]
  },
  {
   "cell_type": "markdown",
   "id": "6d62b56b",
   "metadata": {},
   "source": []
  }
 ],
 "metadata": {
  "language_info": {
   "name": "python"
  }
 },
 "nbformat": 4,
 "nbformat_minor": 5
}
