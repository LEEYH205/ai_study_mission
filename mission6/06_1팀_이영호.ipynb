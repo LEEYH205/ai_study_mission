{
 "cells": [
  {
   "cell_type": "markdown",
   "id": "c1c3885b",
   "metadata": {},
   "source": [
    "# 미션 5 개요\n",
    "흉부 X-Ray 사진을 바탕으로 폐렴 환자를 구분하는 작업을 수행.\n",
    "\n",
    "X-Ray 사진을 입력으로 받아 폐렴 여부를 구분하는 분류(Classsification) 모델을 만드는 것.\n",
    "\n",
    "다양한 이미지 전처리 및 증강 기법과 Transfer Learning과 Fine-Tuning 기법을 실험해보고, 모델의 성능을 평가.\n",
    "\n",
    "데이터\n",
    " - Chest X-Ray Images(Pneumonia)\n",
    "     - train : 훈련 데이터\n",
    "     - val : 검증 데이터\n",
    "     - test : 테스트 데이터\n",
    "\n",
    "- Transfer Learning 적용\n",
    "- Fine-Tuning 적용\n",
    "   - Frozen 모델, Partial Fine-Tuning, Full Fine-Tuning 비교/실험\n",
    "   - 모델별 성능 비교, 분석 결과 도출\n",
    "- 모델 성능 평가\n",
    "   - 평가 지표(Accuracy, Precision, Recall, F1-score 등) 활용 모델 성능 분석 비교"
   ]
  },
  {
   "cell_type": "markdown",
   "id": "01c38adb",
   "metadata": {},
   "source": [
    "# 환경설정"
   ]
  },
  {
   "cell_type": "code",
   "execution_count": 21,
   "id": "2dc389d7",
   "metadata": {},
   "outputs": [],
   "source": [
    "import os\n",
    "import torch\n",
    "import torch.nn as nn\n",
    "import torch.optim as optim\n",
    "import numpy as np\n",
    "import cv2\n",
    "\n",
    "from pathlib import Path\n",
    "import kagglehub\n",
    "\n",
    "from torchvision import datasets\n",
    "from torch.utils.data import DataLoader\n",
    "from torchvision.transforms import v2\n",
    "import torchvision.models as models\n",
    "from torchvision import models\n",
    "from torchinfo import summary\n",
    "\n",
    "from PIL import Image, ImageEnhance, ImageFilter\n",
    "from torch.utils.data import Dataset, DataLoader, random_split\n",
    "from sklearn.datasets import fetch_20newsgroups\n",
    "from sklearn.model_selection import train_test_split\n",
    "from sklearn.metrics import f1_score\n",
    "import matplotlib.pyplot as plt\n",
    "from torchvision import transforms\n",
    "import torchvision.transforms.v2 as v2\n",
    "import math\n",
    "import torchvision.transforms.functional as TF\n",
    "import torch.nn.functional as F\n",
    "import copy\n",
    "from datetime import datetime\n"
   ]
  },
  {
   "cell_type": "code",
   "execution_count": 4,
   "id": "2dec37d6",
   "metadata": {},
   "outputs": [
    {
     "name": "stdout",
     "output_type": "stream",
     "text": [
      "PyTorch: 2.7.1\n",
      "MPS available: True\n",
      "mps\n"
     ]
    }
   ],
   "source": [
    "print(\"PyTorch:\", torch.__version__)\n",
    "print(\"MPS available:\", torch.backends.mps.is_available())\n",
    "device = torch.device(\"mps\" if torch.backends.mps.is_available() else \"cpu\")\n",
    "print(device)\n",
    "\n",
    "os.makedirs(\"pth\", exist_ok=True)"
   ]
  },
  {
   "cell_type": "markdown",
   "id": "9b62fa28",
   "metadata": {},
   "source": [
    "## 함수화"
   ]
  },
  {
   "cell_type": "code",
   "execution_count": 24,
   "id": "4fec38d0",
   "metadata": {},
   "outputs": [],
   "source": [
    "def train_model(model, loss_fn, optimizer, train_loader, val_loader, device, num_epochs=100, model_name=\"model\"):\n",
    "    best_val_loss = float('inf')\n",
    "    best_state = None\n",
    "    history = {'train_loss':[], 'val_loss': [], 'val_accuracy': [], 'val_f1': []}\n",
    "\n",
    "    for epoch in range(num_epochs):\n",
    "        # training\n",
    "        model.train()\n",
    "        running_loss = 0.0\n",
    "        for step, (X, y) in enumerate(train_loader, 1):\n",
    "            X, y = X.to(device), y.to(device)\n",
    "\n",
    "            preds = model(X)\n",
    "            loss = loss_fn(preds, y)\n",
    "\n",
    "            optimizer.zero_grad()\n",
    "            loss.backward()\n",
    "            optimizer.step()\n",
    "\n",
    "            running_loss += loss.item()\n",
    "            if step % 50 == 0:\n",
    "                print(f\"[{model_name}] Epoch {epoch} step {step} train_loss = {loss.item():.6f}\")\n",
    "\n",
    "        avg_train_loss = running_loss / len(train_loader)\n",
    "        history['train_loss'].append(avg_train_loss)\n",
    "\n",
    "        # validation\n",
    "        model.eval()\n",
    "        val_losses = []\n",
    "        val_correct = 0\n",
    "        val_total = 0\n",
    "        all_preds = []\n",
    "        all_labels = []\n",
    "        with torch.no_grad():\n",
    "            for X, y in val_loader:\n",
    "                X, y = X.to(device), y.to(device)\n",
    "                preds = model(X)\n",
    "                loss = loss_fn(preds, y)\n",
    "                val_losses.append(loss.item())\n",
    "\n",
    "                # accuracy 계산\n",
    "                _, predicted = torch.max(preds, 1)\n",
    "                val_correct += (predicted == y).sum().item()\n",
    "                val_total += y.size(0)\n",
    "\n",
    "                # F1 score 계산\n",
    "                all_preds.extend(predicted.cpu().numpy())\n",
    "                all_labels.extend(y.cpu().numpy())\n",
    "\n",
    "        val_accuracy = val_correct / val_total\n",
    "        avg_val_loss = sum(val_losses) / len(val_losses)\n",
    "\n",
    "        # F1 score 계산\n",
    "        val_f1 = f1_score(all_labels, all_preds, average='weighted') #weighted: 클래스 비율 반영\n",
    "                                                                    # micro: 전체 샘플에 대한 클래스별 정밀도와 재현율의 평균\n",
    "        \n",
    "        history['val_accuracy'].append(val_accuracy)\n",
    "        history['val_loss'].append(avg_train_loss)\n",
    "        history['val_f1'].append(val_f1)\n",
    "\n",
    "        print(f\"[{model_name}] Epoch {epoch} train_loss = {loss.item():.6f} val_loss={avg_val_loss:.6f} val_accuracy={val_accuracy:.6f} val_f1={val_f1:.6f}\")\n",
    "\n",
    "        # best model saved\n",
    "        if avg_val_loss < best_val_loss:\n",
    "            best_val_loss = avg_val_loss\n",
    "            best_state = copy.deepcopy(model.state_dict())\n",
    "            loss_name = loss_fn.__class__.__name__\n",
    "            ts = datetime.now().strftime(\"%Y%m%d_%H%M%S\")\n",
    "            fname = f\"./pth/{model_name}_{loss_name}_{ts}_best_epoch{epoch:03d}_val{avg_val_loss:.6f}.pth\"\n",
    "            torch.save(best_state, fname)\n",
    "            print(f\"↳ New best model saved: {fname}\")\n",
    "\n",
    "    return history\n"
   ]
  },
  {
   "cell_type": "markdown",
   "id": "ded1386b",
   "metadata": {},
   "source": [
    "## 데이터 불러오기"
   ]
  },
  {
   "cell_type": "code",
   "execution_count": 5,
   "id": "f635b91c",
   "metadata": {},
   "outputs": [
    {
     "name": "stdout",
     "output_type": "stream",
     "text": [
      "/Users/leeyoungho/develop/ai_study/mission/mission6/.kagglehub_cache\n",
      "Path to dataset files: /Users/leeyoungho/develop/ai_study/mission/mission6/.kagglehub_cache/datasets/paultimothymooney/chest-xray-pneumonia/versions/2\n"
     ]
    }
   ],
   "source": [
    "# KaggleHub 캐시를 현재 노트북 폴더 안에 .kagglehub_cache 로 고정\n",
    "cache_dir = Path.cwd() / \".kagglehub_cache\"\n",
    "cache_dir.mkdir(parents=True, exist_ok=True)\n",
    "os.environ[\"KAGGLEHUB_CACHE\"] = str(cache_dir)\n",
    "\n",
    "print(cache_dir)\n",
    "\n",
    "# Download latest version\n",
    "path = kagglehub.dataset_download(\"paultimothymooney/chest-xray-pneumonia\")\n",
    "\n",
    "print(\"Path to dataset files:\", path)\n"
   ]
  },
  {
   "cell_type": "code",
   "execution_count": 7,
   "id": "b0219843",
   "metadata": {},
   "outputs": [],
   "source": [
    "# 폴더 경로 설정\n",
    "train_dir = os.path.join(path, \"chest_xray\", \"train\")\n",
    "val_dir = os.path.join(path, \"chest_xray\", \"val\")\n",
    "test_dir = os.path.join(path, \"chest_xray\", \"test\")"
   ]
  },
  {
   "cell_type": "markdown",
   "id": "17d99c2b",
   "metadata": {},
   "source": [
    "## transform 만들기"
   ]
  },
  {
   "cell_type": "code",
   "execution_count": 26,
   "id": "e70882b3",
   "metadata": {},
   "outputs": [
    {
     "name": "stderr",
     "output_type": "stream",
     "text": [
      "/Users/leeyoungho/miniforge3/envs/ai_3/lib/python3.12/site-packages/torchvision/transforms/v2/_deprecated.py:42: UserWarning: The transform `ToTensor()` is deprecated and will be removed in a future release. Instead, please use `v2.Compose([v2.ToImage(), v2.ToDtype(torch.float32, scale=True)])`.Output is equivalent up to float precision.\n",
      "  warnings.warn(\n"
     ]
    }
   ],
   "source": [
    "crop_h, crop_w = 224, 224 #ResNet18 기본 이미지 크기\n",
    "\n",
    "# 데이터 전처리 정의\n",
    "data_transforms = {\n",
    "    'train': v2.Compose([\n",
    "        v2.Resize((crop_h, crop_w)),        # 이미지 크기 조정\n",
    "        v2.RandomCrop((200, 200)),          # 랜덤 크롭 (200x200)\n",
    "        v2.RandomRotation(20),              # 랜덤 회전 (-20도 ~ 20도)\n",
    "        v2.ToTensor(),                       # 텐서로 변환\n",
    "        v2.Normalize([0.5], [0.5])          # 정규화\n",
    "    ]),\n",
    "    'val': v2.Compose([\n",
    "        v2.Resize((crop_h, crop_w)),        # 이미지 크기 조정\n",
    "        v2.ToTensor(),                       # 텐서로 변환\n",
    "        v2.Normalize([0.5], [0.5])          # 정규화\n",
    "    ]),\n",
    "    'test': v2.Compose([\n",
    "        v2.Resize((crop_h, crop_w)),        # 이미지 크기 조정\n",
    "        v2.ToTensor(),                       # 텐서로 변환\n",
    "        v2.Normalize([0.5], [0.5])          # 정규화\n",
    "    ])\n",
    "}\n"
   ]
  },
  {
   "cell_type": "markdown",
   "id": "3825cc3e",
   "metadata": {},
   "source": [
    "## dataset 만들기"
   ]
  },
  {
   "cell_type": "code",
   "execution_count": 27,
   "id": "11486121",
   "metadata": {},
   "outputs": [],
   "source": [
    "# 데이터셋 로드\n",
    "train_dataset = datasets.ImageFolder(train_dir, transform=data_transforms['train'])\n",
    "val_dataset = datasets.ImageFolder(val_dir, transform=data_transforms['val'])\n",
    "test_dataset = datasets.ImageFolder(test_dir, transform=data_transforms['test'])"
   ]
  },
  {
   "cell_type": "markdown",
   "id": "9b1b2113",
   "metadata": {},
   "source": [
    "## dataloader 만들기"
   ]
  },
  {
   "cell_type": "code",
   "execution_count": 28,
   "id": "042ba9c8",
   "metadata": {},
   "outputs": [
    {
     "name": "stdout",
     "output_type": "stream",
     "text": [
      "Class names: ['NORMAL', 'PNEUMONIA']\n"
     ]
    }
   ],
   "source": [
    "# DataLoader 생성\n",
    "train_loader = DataLoader(train_dataset, batch_size=32, shuffle=True)\n",
    "val_loader = DataLoader(val_dataset, batch_size=32, shuffle=False)\n",
    "test_loader = DataLoader(test_dataset, batch_size=32, shuffle=False)\n",
    "\n",
    "# 클래스 확인\n",
    "class_names = train_dataset.classes\n",
    "print(\"Class names:\", class_names)"
   ]
  },
  {
   "cell_type": "markdown",
   "id": "ee675732",
   "metadata": {},
   "source": [
    "# 모델"
   ]
  },
  {
   "cell_type": "markdown",
   "id": "53e320a2",
   "metadata": {},
   "source": [
    "## Pretrained 모델 사용"
   ]
  },
  {
   "cell_type": "code",
   "execution_count": 29,
   "id": "7a48871b",
   "metadata": {},
   "outputs": [],
   "source": [
    "pretrained_model = models.resnet18(weights='ResNet18_Weights.IMAGENET1K_V1')"
   ]
  },
  {
   "cell_type": "code",
   "execution_count": 30,
   "id": "a90213e8",
   "metadata": {},
   "outputs": [
    {
     "data": {
      "text/plain": [
       "==========================================================================================\n",
       "Layer (type:depth-idx)                   Output Shape              Param #\n",
       "==========================================================================================\n",
       "ResNet                                   [1, 1000]                 --\n",
       "├─Conv2d: 1-1                            [1, 64, 112, 112]         9,408\n",
       "├─BatchNorm2d: 1-2                       [1, 64, 112, 112]         128\n",
       "├─ReLU: 1-3                              [1, 64, 112, 112]         --\n",
       "├─MaxPool2d: 1-4                         [1, 64, 56, 56]           --\n",
       "├─Sequential: 1-5                        [1, 64, 56, 56]           --\n",
       "│    └─BasicBlock: 2-1                   [1, 64, 56, 56]           --\n",
       "│    │    └─Conv2d: 3-1                  [1, 64, 56, 56]           36,864\n",
       "│    │    └─BatchNorm2d: 3-2             [1, 64, 56, 56]           128\n",
       "│    │    └─ReLU: 3-3                    [1, 64, 56, 56]           --\n",
       "│    │    └─Conv2d: 3-4                  [1, 64, 56, 56]           36,864\n",
       "│    │    └─BatchNorm2d: 3-5             [1, 64, 56, 56]           128\n",
       "│    │    └─ReLU: 3-6                    [1, 64, 56, 56]           --\n",
       "│    └─BasicBlock: 2-2                   [1, 64, 56, 56]           --\n",
       "│    │    └─Conv2d: 3-7                  [1, 64, 56, 56]           36,864\n",
       "│    │    └─BatchNorm2d: 3-8             [1, 64, 56, 56]           128\n",
       "│    │    └─ReLU: 3-9                    [1, 64, 56, 56]           --\n",
       "│    │    └─Conv2d: 3-10                 [1, 64, 56, 56]           36,864\n",
       "│    │    └─BatchNorm2d: 3-11            [1, 64, 56, 56]           128\n",
       "│    │    └─ReLU: 3-12                   [1, 64, 56, 56]           --\n",
       "├─Sequential: 1-6                        [1, 128, 28, 28]          --\n",
       "│    └─BasicBlock: 2-3                   [1, 128, 28, 28]          --\n",
       "│    │    └─Conv2d: 3-13                 [1, 128, 28, 28]          73,728\n",
       "│    │    └─BatchNorm2d: 3-14            [1, 128, 28, 28]          256\n",
       "│    │    └─ReLU: 3-15                   [1, 128, 28, 28]          --\n",
       "│    │    └─Conv2d: 3-16                 [1, 128, 28, 28]          147,456\n",
       "│    │    └─BatchNorm2d: 3-17            [1, 128, 28, 28]          256\n",
       "│    │    └─Sequential: 3-18             [1, 128, 28, 28]          8,448\n",
       "│    │    └─ReLU: 3-19                   [1, 128, 28, 28]          --\n",
       "│    └─BasicBlock: 2-4                   [1, 128, 28, 28]          --\n",
       "│    │    └─Conv2d: 3-20                 [1, 128, 28, 28]          147,456\n",
       "│    │    └─BatchNorm2d: 3-21            [1, 128, 28, 28]          256\n",
       "│    │    └─ReLU: 3-22                   [1, 128, 28, 28]          --\n",
       "│    │    └─Conv2d: 3-23                 [1, 128, 28, 28]          147,456\n",
       "│    │    └─BatchNorm2d: 3-24            [1, 128, 28, 28]          256\n",
       "│    │    └─ReLU: 3-25                   [1, 128, 28, 28]          --\n",
       "├─Sequential: 1-7                        [1, 256, 14, 14]          --\n",
       "│    └─BasicBlock: 2-5                   [1, 256, 14, 14]          --\n",
       "│    │    └─Conv2d: 3-26                 [1, 256, 14, 14]          294,912\n",
       "│    │    └─BatchNorm2d: 3-27            [1, 256, 14, 14]          512\n",
       "│    │    └─ReLU: 3-28                   [1, 256, 14, 14]          --\n",
       "│    │    └─Conv2d: 3-29                 [1, 256, 14, 14]          589,824\n",
       "│    │    └─BatchNorm2d: 3-30            [1, 256, 14, 14]          512\n",
       "│    │    └─Sequential: 3-31             [1, 256, 14, 14]          33,280\n",
       "│    │    └─ReLU: 3-32                   [1, 256, 14, 14]          --\n",
       "│    └─BasicBlock: 2-6                   [1, 256, 14, 14]          --\n",
       "│    │    └─Conv2d: 3-33                 [1, 256, 14, 14]          589,824\n",
       "│    │    └─BatchNorm2d: 3-34            [1, 256, 14, 14]          512\n",
       "│    │    └─ReLU: 3-35                   [1, 256, 14, 14]          --\n",
       "│    │    └─Conv2d: 3-36                 [1, 256, 14, 14]          589,824\n",
       "│    │    └─BatchNorm2d: 3-37            [1, 256, 14, 14]          512\n",
       "│    │    └─ReLU: 3-38                   [1, 256, 14, 14]          --\n",
       "├─Sequential: 1-8                        [1, 512, 7, 7]            --\n",
       "│    └─BasicBlock: 2-7                   [1, 512, 7, 7]            --\n",
       "│    │    └─Conv2d: 3-39                 [1, 512, 7, 7]            1,179,648\n",
       "│    │    └─BatchNorm2d: 3-40            [1, 512, 7, 7]            1,024\n",
       "│    │    └─ReLU: 3-41                   [1, 512, 7, 7]            --\n",
       "│    │    └─Conv2d: 3-42                 [1, 512, 7, 7]            2,359,296\n",
       "│    │    └─BatchNorm2d: 3-43            [1, 512, 7, 7]            1,024\n",
       "│    │    └─Sequential: 3-44             [1, 512, 7, 7]            132,096\n",
       "│    │    └─ReLU: 3-45                   [1, 512, 7, 7]            --\n",
       "│    └─BasicBlock: 2-8                   [1, 512, 7, 7]            --\n",
       "│    │    └─Conv2d: 3-46                 [1, 512, 7, 7]            2,359,296\n",
       "│    │    └─BatchNorm2d: 3-47            [1, 512, 7, 7]            1,024\n",
       "│    │    └─ReLU: 3-48                   [1, 512, 7, 7]            --\n",
       "│    │    └─Conv2d: 3-49                 [1, 512, 7, 7]            2,359,296\n",
       "│    │    └─BatchNorm2d: 3-50            [1, 512, 7, 7]            1,024\n",
       "│    │    └─ReLU: 3-51                   [1, 512, 7, 7]            --\n",
       "├─AdaptiveAvgPool2d: 1-9                 [1, 512, 1, 1]            --\n",
       "├─Linear: 1-10                           [1, 1000]                 513,000\n",
       "==========================================================================================\n",
       "Total params: 11,689,512\n",
       "Trainable params: 11,689,512\n",
       "Non-trainable params: 0\n",
       "Total mult-adds (Units.GIGABYTES): 1.81\n",
       "==========================================================================================\n",
       "Input size (MB): 0.60\n",
       "Forward/backward pass size (MB): 39.75\n",
       "Params size (MB): 46.76\n",
       "Estimated Total Size (MB): 87.11\n",
       "=========================================================================================="
      ]
     },
     "execution_count": 30,
     "metadata": {},
     "output_type": "execute_result"
    }
   ],
   "source": [
    "summary(pretrained_model, (1, 3, 224, 224), verbose=0)"
   ]
  },
  {
   "cell_type": "markdown",
   "id": "c8ba2da1",
   "metadata": {},
   "source": [
    "## features freeze, classifier 교체"
   ]
  },
  {
   "cell_type": "markdown",
   "id": "eb2e311c",
   "metadata": {},
   "source": [
    "### 1. 분류기 교체 (2클래스)"
   ]
  },
  {
   "cell_type": "code",
   "execution_count": 31,
   "id": "0f6dce5b",
   "metadata": {},
   "outputs": [],
   "source": [
    "num_ftrs = pretrained_model.fc.in_features  # ImageNet용 ResNet18은 nn.Linear(512, 1000) 구조 -> num_ftrs = 512\n",
    "pretrained_model.fc = nn.Linear(num_ftrs, 2)  # 클래스 수 = 2 (NORMAL, PNEUMONIA) # 마지막 FC layer를 512->2로 변경\n",
    "pretrained_model = pretrained_model.to(device)\n"
   ]
  },
  {
   "cell_type": "markdown",
   "id": "149ccebd",
   "metadata": {},
   "source": [
    "### 2. features freeze (가중치 고정)"
   ]
  },
  {
   "cell_type": "code",
   "execution_count": 32,
   "id": "261928a5",
   "metadata": {},
   "outputs": [],
   "source": [
    "for param in pretrained_model.parameters():\n",
    "    param.requires_grad = False  # 모든 파라미터 freeze\n",
    "\n",
    "for param in pretrained_model.fc.parameters():\n",
    "    param.requires_grad = True   # 분류기만 학습"
   ]
  },
  {
   "cell_type": "markdown",
   "id": "76c07d5a",
   "metadata": {},
   "source": [
    "### 3. 손실함수, 옵티마이저 정의"
   ]
  },
  {
   "cell_type": "code",
   "execution_count": 33,
   "id": "79b870b4",
   "metadata": {},
   "outputs": [],
   "source": [
    "criterion = nn.CrossEntropyLoss()\n",
    "optimizer = optim.Adam(pretrained_model.fc.parameters(), lr=1e-3)"
   ]
  },
  {
   "cell_type": "markdown",
   "id": "1d5516cf",
   "metadata": {},
   "source": [
    "### 4. train"
   ]
  },
  {
   "cell_type": "code",
   "execution_count": 34,
   "id": "5d0c9fd1",
   "metadata": {},
   "outputs": [
    {
     "name": "stdout",
     "output_type": "stream",
     "text": [
      "[resnet18_freeze] Epoch 0 step 50 train_loss = 0.371755\n",
      "[resnet18_freeze] Epoch 0 step 100 train_loss = 0.374993\n",
      "[resnet18_freeze] Epoch 0 step 150 train_loss = 0.191456\n",
      "[resnet18_freeze] Epoch 0 train_loss = 0.456418 val_loss=0.456418 val_accuracy=0.812500 val_f1=0.811765\n",
      "↳ New best model saved: ./pth/resnet18_freeze_CrossEntropyLoss_20250625_104528_best_epoch000_val0.456418.pth\n",
      "[resnet18_freeze] Epoch 1 step 50 train_loss = 0.160427\n",
      "[resnet18_freeze] Epoch 1 step 100 train_loss = 0.153616\n",
      "[resnet18_freeze] Epoch 1 step 150 train_loss = 0.376929\n",
      "[resnet18_freeze] Epoch 1 train_loss = 0.391760 val_loss=0.391760 val_accuracy=0.812500 val_f1=0.811765\n",
      "↳ New best model saved: ./pth/resnet18_freeze_CrossEntropyLoss_20250625_104629_best_epoch001_val0.391760.pth\n",
      "[resnet18_freeze] Epoch 2 step 50 train_loss = 0.307699\n",
      "[resnet18_freeze] Epoch 2 step 100 train_loss = 0.141953\n",
      "[resnet18_freeze] Epoch 2 step 150 train_loss = 0.128451\n",
      "[resnet18_freeze] Epoch 2 train_loss = 0.425938 val_loss=0.425938 val_accuracy=0.750000 val_f1=0.733333\n",
      "[resnet18_freeze] Epoch 3 step 50 train_loss = 0.267113\n",
      "[resnet18_freeze] Epoch 3 step 100 train_loss = 0.223241\n",
      "[resnet18_freeze] Epoch 3 step 150 train_loss = 0.102301\n",
      "[resnet18_freeze] Epoch 3 train_loss = 0.480511 val_loss=0.480511 val_accuracy=0.750000 val_f1=0.733333\n",
      "[resnet18_freeze] Epoch 4 step 50 train_loss = 0.258011\n",
      "[resnet18_freeze] Epoch 4 step 100 train_loss = 0.096344\n",
      "[resnet18_freeze] Epoch 4 step 150 train_loss = 0.229527\n",
      "[resnet18_freeze] Epoch 4 train_loss = 0.672299 val_loss=0.672299 val_accuracy=0.687500 val_f1=0.653680\n",
      "[resnet18_freeze] Epoch 5 step 50 train_loss = 0.233880\n",
      "[resnet18_freeze] Epoch 5 step 100 train_loss = 0.151034\n",
      "[resnet18_freeze] Epoch 5 step 150 train_loss = 0.168254\n",
      "[resnet18_freeze] Epoch 5 train_loss = 0.502172 val_loss=0.502172 val_accuracy=0.750000 val_f1=0.733333\n",
      "[resnet18_freeze] Epoch 6 step 50 train_loss = 0.210076\n",
      "[resnet18_freeze] Epoch 6 step 100 train_loss = 0.122660\n",
      "[resnet18_freeze] Epoch 6 step 150 train_loss = 0.238841\n",
      "[resnet18_freeze] Epoch 6 train_loss = 0.511992 val_loss=0.511992 val_accuracy=0.750000 val_f1=0.733333\n",
      "[resnet18_freeze] Epoch 7 step 50 train_loss = 0.156736\n",
      "[resnet18_freeze] Epoch 7 step 100 train_loss = 0.081828\n",
      "[resnet18_freeze] Epoch 7 step 150 train_loss = 0.081954\n",
      "[resnet18_freeze] Epoch 7 train_loss = 0.486536 val_loss=0.486536 val_accuracy=0.750000 val_f1=0.733333\n",
      "[resnet18_freeze] Epoch 8 step 50 train_loss = 0.180693\n",
      "[resnet18_freeze] Epoch 8 step 100 train_loss = 0.193463\n",
      "[resnet18_freeze] Epoch 8 step 150 train_loss = 0.062697\n",
      "[resnet18_freeze] Epoch 8 train_loss = 0.717524 val_loss=0.717524 val_accuracy=0.687500 val_f1=0.653680\n",
      "[resnet18_freeze] Epoch 9 step 50 train_loss = 0.303081\n",
      "[resnet18_freeze] Epoch 9 step 100 train_loss = 0.113086\n",
      "[resnet18_freeze] Epoch 9 step 150 train_loss = 0.221533\n",
      "[resnet18_freeze] Epoch 9 train_loss = 0.616755 val_loss=0.616755 val_accuracy=0.750000 val_f1=0.733333\n"
     ]
    }
   ],
   "source": [
    "history = train_model(\n",
    "    pretrained_model,           # 모델\n",
    "    criterion,                  # 손실 함수\n",
    "    optimizer,                  # 옵티마이저\n",
    "    train_loader,               # 학습 데이터로더\n",
    "    val_loader,                 # 검증 데이터로더\n",
    "    device,                     # 디바이스 (cpu/mps/cuda)\n",
    "    num_epochs=10,              # 에폭 수 (원하는 만큼)\n",
    "    model_name=\"resnet18_freeze\" # 저장 파일명 접두사\n",
    ")"
   ]
  },
  {
   "cell_type": "code",
   "execution_count": 36,
   "id": "057620a3",
   "metadata": {},
   "outputs": [
    {
     "data": {
      "image/png": "[encoded data removed]",
      "text/plain": [
       "<Figure size 1000x400 with 1 Axes>"
      ]
     },
     "metadata": {},
     "output_type": "display_data"
    },
    {
     "data": {
      "image/png": "[encoded data removed]",
      "text/plain": [
       "<Figure size 1000x400 with 1 Axes>"
      ]
     },
     "metadata": {},
     "output_type": "display_data"
    },
    {
     "data": {
      "image/png": "[encoded data removed]",
      "text/plain": [
       "<Figure size 1000x400 with 1 Axes>"
      ]
     },
     "metadata": {},
     "output_type": "display_data"
    }
   ],
   "source": [
    "# 1. Loss 그래프\n",
    "plt.figure(figsize=(10,4))\n",
    "plt.plot(history['train_loss'], label='Train Loss')\n",
    "plt.plot(history['val_loss'], label='Val Loss')\n",
    "plt.xlabel('Epoch')\n",
    "plt.ylabel('Loss')\n",
    "plt.title('Loss Curve')\n",
    "plt.legend()\n",
    "plt.show()\n",
    "\n",
    "# 2. Accuracy 그래프\n",
    "plt.figure(figsize=(10,4))\n",
    "plt.plot(history['val_accuracy'], label='Val Accuracy')\n",
    "plt.xlabel('Epoch')\n",
    "plt.ylabel('Accuracy')\n",
    "plt.title('Validation Accuracy')\n",
    "plt.legend()\n",
    "plt.show()\n",
    "\n",
    "# 3. F1-score 그래프\n",
    "plt.figure(figsize=(10,4))\n",
    "plt.plot(history['val_f1'], label='Val F1-score')\n",
    "plt.xlabel('Epoch')\n",
    "plt.ylabel('F1-score')\n",
    "plt.title('Validation F1-score')\n",
    "plt.legend()\n",
    "plt.show()"
   ]
  },
  {
   "cell_type": "code",
   "execution_count": null,
   "id": "1ed3e545",
   "metadata": {},
   "outputs": [],
   "source": []
  }
 ],
 "metadata": {
  "kernelspec": {
   "display_name": "ai_3",
   "language": "python",
   "name": "python3"
  },
  "language_info": {
   "codemirror_mode": {
    "name": "ipython",
    "version": 3
   },
   "file_extension": ".py",
   "mimetype": "text/x-python",
   "name": "python",
   "nbconvert_exporter": "python",
   "pygments_lexer": "ipython3",
   "version": "3.12.10"
  }
 },
 "nbformat": 4,
 "nbformat_minor": 5
}
